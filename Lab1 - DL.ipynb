{
  "nbformat": 4,
  "nbformat_minor": 0,
  "metadata": {
    "colab": {
      "provenance": []
    },
    "kernelspec": {
      "name": "python3",
      "display_name": "Python 3"
    },
    "language_info": {
      "name": "python"
    },
    "accelerator": "GPU",
    "gpuClass": "standard"
  },
  "cells": [
    {
      "cell_type": "markdown",
      "source": [
        "# Lab 1- Introduction to Deep Learning\n"
      ],
      "metadata": {
        "id": "x9vUT4tLCE2I"
      }
    },
    {
      "cell_type": "code",
      "source": [
        "# Import necessary libraries\n",
        "\n",
        "# Utilities\n",
        "import numpy as np\n",
        "import matplotlib.pyplot as plt\n",
        "\n",
        "# Deep learning libraries\n",
        "import tensorflow as tf\n",
        "from tensorflow import keras"
      ],
      "metadata": {
        "id": "uUi3rY_RDILw"
      },
      "execution_count": null,
      "outputs": []
    },
    {
      "cell_type": "markdown",
      "source": [
        "## Data loading: Fashion MNIST "
      ],
      "metadata": {
        "id": "p9KtxK91CkM0"
      }
    },
    {
      "cell_type": "code",
      "execution_count": null,
      "metadata": {
        "id": "j0Vw1I9X-8rO"
      },
      "outputs": [],
      "source": [
        "# Get the Fashion MNIST dataset, built-in data on keras\n",
        "\n",
        "# Download the data\n",
        "fashion_mnist = tf.keras.datasets.fashion_mnist\n",
        "\n",
        "# Load the data\n",
        "(x_train, y_train), (x_test, y_test) = fashion_mnist.load_data()"
      ]
    },
    {
      "cell_type": "code",
      "source": [
        "# Check the dimensionality of the data\n",
        "print(f'Training set: Input {x_train.shape}, Output{y_train.shape}')\n",
        "print(f'Test set: Input {x_test.shape}, Output{y_test.shape}')"
      ],
      "metadata": {
        "colab": {
          "base_uri": "https://localhost:8080/"
        },
        "id": "X4PXuocADyU_",
        "outputId": "cee9b898-8f49-485a-ed22-020b43a5a53b"
      },
      "execution_count": null,
      "outputs": [
        {
          "output_type": "stream",
          "name": "stdout",
          "text": [
            "Training set: Input (60000, 28, 28), Output(60000,)\n",
            "Test set: Input (10000, 28, 28), Output(10000,)\n"
          ]
        }
      ]
    },
    {
      "cell_type": "code",
      "source": [
        "# Inspecting the data\n",
        "\n",
        "print(x_train.max(), x_train.min())"
      ],
      "metadata": {
        "colab": {
          "base_uri": "https://localhost:8080/"
        },
        "id": "BM3Ln1cDEO9G",
        "outputId": "c2683054-1107-4693-e355-926bc8d2ba05"
      },
      "execution_count": null,
      "outputs": [
        {
          "output_type": "stream",
          "name": "stdout",
          "text": [
            "255 0\n"
          ]
        }
      ]
    },
    {
      "cell_type": "code",
      "source": [
        "# Showing an image of the Training set\n",
        "\n",
        "plt.imshow(x_train[88])\n",
        "plt.show()"
      ],
      "metadata": {
        "colab": {
          "base_uri": "https://localhost:8080/",
          "height": 430
        },
        "id": "RLBVei-jTvT1",
        "outputId": "ffc814c5-5b4e-446c-adee-efed30e258cd"
      },
      "execution_count": null,
      "outputs": [
        {
          "output_type": "display_data",
          "data": {
            "text/plain": [
              "<Figure size 640x480 with 1 Axes>"
            ],
            "image/png": "[encoded data removed]"
          },
          "metadata": {}
        }
      ]
    },
    {
      "cell_type": "markdown",
      "source": [
        "### Normalize images"
      ],
      "metadata": {
        "id": "k7oajc1HIPwn"
      }
    },
    {
      "cell_type": "markdown",
      "source": [
        "We would like our input data to lie in the interval $[0, 1]$. If our data does not lie in this interval, we can transform it as:\n",
        "\n",
        "$$\n",
        "x' = \\frac{x - x_{min}}{x_{max}-x_{min}}\n",
        "$$\n",
        "\n",
        "Where $x_{min} = \\min(x)$, $x_{max} = \\max(x)$. Note that $x'$ always lies in the interval $[0, 1]$.\n",
        "\n",
        "Also called **min-max feature scaling**:"
      ],
      "metadata": {
        "id": "KtDclaxbDE8b"
      }
    },
    {
      "cell_type": "code",
      "source": [
        "# Normalization function of the data, \n",
        "# in order for them to lie in the interval [0,1]\n",
        "# exploiting the lambda function\n",
        "\n",
        "normalize_data = lambda X: (X-X.min())/(X.max()-X.min())\n",
        "\n",
        "'''\n",
        "lambda function just like:\n",
        "def normalize_data(X):\n",
        "  return (X-X.min())/(X.max()-X.min())\n",
        "'''"
      ],
      "metadata": {
        "colab": {
          "base_uri": "https://localhost:8080/",
          "height": 36
        },
        "id": "qIh7QZIbEqmF",
        "outputId": "35d084b6-f22f-4282-f467-4d3b733af4a3"
      },
      "execution_count": null,
      "outputs": [
        {
          "output_type": "execute_result",
          "data": {
            "text/plain": [
              "'\\nlambda function just like:\\ndef normalize_data(X):\\n  return (X-X.min())/(X.max()-X.min())\\n'"
            ],
            "application/vnd.google.colaboratory.intrinsic+json": {
              "type": "string"
            }
          },
          "metadata": {},
          "execution_count": 28
        }
      ]
    },
    {
      "cell_type": "code",
      "source": [
        "print(f'Min and max of the training set before normalization: [{x_train.min()}, {x_train.max()}]')\n",
        "print(f'Min and max of the test set before normalization: [{x_test.min()}, {x_test.max()}]')\n",
        "\n",
        "x_train = normalize_data(x_train)\n",
        "x_test = normalize_data(x_test)\n",
        "\n",
        "print('\\n')\n",
        "print(f'Min and max of the training set after normalization: [{x_train.min()}, {x_train.max()}]')\n",
        "print(f'Min and max of the test set after normalization: [{x_test.min()}, {x_test.max()}]')"
      ],
      "metadata": {
        "colab": {
          "base_uri": "https://localhost:8080/"
        },
        "id": "7pJeSpEyFcs9",
        "outputId": "ff42aeb0-0e15-4e23-d70b-816683a05d28"
      },
      "execution_count": null,
      "outputs": [
        {
          "output_type": "stream",
          "name": "stdout",
          "text": [
            "Min and max of the training set before normalization: [0, 255]\n",
            "Min and max of the test set before normalization: [0, 255]\n",
            "\n",
            "\n",
            "Min and max of the training set after normalization: [0.0, 1.0]\n",
            "Min and max of the test set after normalization: [0.0, 1.0]\n"
          ]
        }
      ]
    },
    {
      "cell_type": "code",
      "source": [
        "# Inspect the labels\n",
        "print(np.unique(y_train))\n",
        "\n",
        "# Encode these categories for the model \n",
        "# to understand better what it has to do"
      ],
      "metadata": {
        "colab": {
          "base_uri": "https://localhost:8080/"
        },
        "id": "Mdom6DN-Ha-H",
        "outputId": "00b3c721-a818-4a28-9b5d-87ceb0606b78"
      },
      "execution_count": null,
      "outputs": [
        {
          "output_type": "stream",
          "name": "stdout",
          "text": [
            "[0 1 2 3 4 5 6 7 8 9]\n"
          ]
        }
      ]
    },
    {
      "cell_type": "markdown",
      "source": [
        "### To categorical mapping of labels"
      ],
      "metadata": {
        "id": "IxI-cuPHIUgn"
      }
    },
    {
      "cell_type": "code",
      "source": [
        "# Transform the y into a vector which is easily understandable from the network, \n",
        "# one-hot encoding the y.\n",
        "\n",
        "from keras.utils import to_categorical\n",
        "\n",
        "print(f'y[0]: {y_train[0]}')\n",
        "\n",
        "y_train = to_categorical(y_train)\n",
        "y_test = to_categorical(y_test)\n",
        "\n",
        "print(f'y[0] after one-hot enconing: {y_train[0]}')"
      ],
      "metadata": {
        "colab": {
          "base_uri": "https://localhost:8080/"
        },
        "id": "_--iiaZgF1Og",
        "outputId": "3b59a3c5-4602-4766-f7e3-3771aefb2160"
      },
      "execution_count": null,
      "outputs": [
        {
          "output_type": "stream",
          "name": "stdout",
          "text": [
            "y[0]: 9\n",
            "y[0] after one-hot enconing: [0. 0. 0. 0. 0. 0. 0. 0. 0. 1.]\n"
          ]
        }
      ]
    },
    {
      "cell_type": "markdown",
      "source": [
        "## Model"
      ],
      "metadata": {
        "id": "YmjhkKddJBif"
      }
    },
    {
      "cell_type": "markdown",
      "source": [
        "#### At first we loaded the data, now we can build the model."
      ],
      "metadata": {
        "id": "2BYnQfPEGQwK"
      }
    },
    {
      "cell_type": "code",
      "source": [
        "# Importing the models and the layers we are going to need\n",
        "\n",
        "from tensorflow.keras.models import Model, Sequential\n",
        "from tensorflow.keras.layers import Dense, Flatten, Reshape, Input"
      ],
      "metadata": {
        "id": "8gqQblKYJAb_"
      },
      "execution_count": null,
      "outputs": []
    },
    {
      "cell_type": "markdown",
      "source": [
        "The simplest possible layer is the **Dense** layer, which is the fully-connected layer describing the operation $\\sigma(Ax + b)$, where $A, b$ are learnable parameters, $A$ is a full matrix, and $\\sigma$ is the activation function. Since **Dense** layers applies to vectors (not images), we first need to flatten our data. This can be done either via the **Flatten** layer or via the **Reshape** layer. Moreover, every model must begin with an **Input** layer, that describes the type of data our model will expect as input."
      ],
      "metadata": {
        "id": "CLSWw7FWGiKG"
      }
    },
    {
      "cell_type": "markdown",
      "source": [
        "#### At this point we have to ways to define models in **Tensorflow**: the *Sequencial API* and the *Functional API*."
      ],
      "metadata": {
        "id": "fVgLxem0G3r-"
      }
    },
    {
      "cell_type": "markdown",
      "source": [
        "### Sequential API"
      ],
      "metadata": {
        "id": "1iO8ZUYGLZWR"
      }
    },
    {
      "cell_type": "code",
      "source": [
        "model = Sequential([Flatten(), \n",
        "                    Dense(64, activation = 'relu'), \n",
        "                    Dense(10, activation = 'softmax')]) "
      ],
      "metadata": {
        "id": "Ms0AOw3oJhIY"
      },
      "execution_count": null,
      "outputs": []
    },
    {
      "cell_type": "markdown",
      "source": [
        "### Functional API"
      ],
      "metadata": {
        "id": "IpsyMNqILcpZ"
      }
    },
    {
      "cell_type": "code",
      "source": [
        "# Exactly the same thing as the Sequential API, \n",
        "# but written using Functional API\n",
        "\n",
        "def build_model(input_shape, output_shape):\n",
        "\n",
        "  input = Input(input_shape)\n",
        "  flatten = Flatten()(input)\n",
        "\n",
        "  dense_1 = Dense(64, activation = 'relu')(flatten)\n",
        "  dense_2 = Dense(output_shape, activation='softmax')(dense_1)\n",
        "\n",
        "  model = Model(inputs= input, outputs=dense_2)\n",
        "\n",
        "  # Visualize summary of the newly created Model\n",
        "  model.summary()\n",
        "  return model\n"
      ],
      "metadata": {
        "id": "PK8cN2mULP7p"
      },
      "execution_count": null,
      "outputs": []
    },
    {
      "cell_type": "markdown",
      "source": [
        "The two implementations of the model are both correct and apparently equivalent. The *S.* is easier to implement, Tensorflow will do all the work, concatenating the layers to build the NN. The *F.* is harder, because it requires to define the list of the Layers and also the relationship between them. This allows the Funcitonal API to define architecture with complex relationships between Layers (impossible to do using the Sequential API). "
      ],
      "metadata": {
        "id": "M5nf_ZPn6_sE"
      }
    },
    {
      "cell_type": "markdown",
      "source": [
        "## Train the Model"
      ],
      "metadata": {
        "id": "BDlhfPyf74L5"
      }
    },
    {
      "cell_type": "code",
      "source": [
        "# Model with a matrix 28x28 as InputLayer \n",
        "# and a layer of length 10 as OutputLayer\n",
        "\n",
        "model = build_model((28,28), 10)"
      ],
      "metadata": {
        "colab": {
          "base_uri": "https://localhost:8080/"
        },
        "id": "uX3j1EzIOTjO",
        "outputId": "ab8bc113-b5d7-40e2-baa2-57571a6d055f"
      },
      "execution_count": null,
      "outputs": [
        {
          "output_type": "stream",
          "name": "stdout",
          "text": [
            "Model: \"model_1\"\n",
            "_________________________________________________________________\n",
            " Layer (type)                Output Shape              Param #   \n",
            "=================================================================\n",
            " input_2 (InputLayer)        [(None, 28, 28)]          0         \n",
            "                                                                 \n",
            " flatten_3 (Flatten)         (None, 784)               0         \n",
            "                                                                 \n",
            " dense_6 (Dense)             (None, 64)                50240     \n",
            "                                                                 \n",
            " dense_7 (Dense)             (None, 10)                650       \n",
            "                                                                 \n",
            "=================================================================\n",
            "Total params: 50,890\n",
            "Trainable params: 50,890\n",
            "Non-trainable params: 0\n",
            "_________________________________________________________________\n"
          ]
        }
      ]
    },
    {
      "cell_type": "markdown",
      "source": [
        "The first thing to do to train the model is **compile** it , *defining a loss function and an optimizer*. The loss function represents the 'distance' we want to minimize, and the optimizer the mean through which it is possible to minimize the loss function. \n",
        "In order to start the optimization of the loss function, first we initialize a random value. The most used in *Adam*, but can be also chosen optimizers like the SGD.\n"
      ],
      "metadata": {
        "id": "C-6_ECkV8Z1m"
      }
    },
    {
      "cell_type": "code",
      "source": [
        "# Compiling the Model, exploiting Adam optimizer \n",
        "# and loss function CrossEntropy.\n",
        "\n",
        "model.compile(optimizer ='adam', loss='categorical_crossentropy', metrics = 'accuracy')"
      ],
      "metadata": {
        "id": "pgI6aIbBRLOS"
      },
      "execution_count": null,
      "outputs": []
    },
    {
      "cell_type": "markdown",
      "source": [
        "Once the model is compiled, it can be *trained*, which can be done through the *fit* method. \n",
        "**The training works by minimizing the loss function via a sequence of parameters update.**"
      ],
      "metadata": {
        "id": "RHpO8kDxFJvL"
      }
    },
    {
      "cell_type": "markdown",
      "source": [
        "When using a variant of the SGD, e.g. *Adam*, the optimizer takes as input a batch of data. Consider a dataset of *N* elements, define a parameter *m*, called *\n",
        "batch size*, and at each iteration, select a random subset of data from the enitre dataset, of *m* elements. Those subsets are named *batches*. Given a batch, the optimizer takes it as input and compute one step of the training algorithm. Then, once it has been used, the batch is removed from the original dataset. \n",
        "After all the dataset is been processed, we say that an **epoch** has been executed. Batch size and epochs are both passed as input to the *fit* method."
      ],
      "metadata": {
        "id": "_XKhzeR6F7ql"
      }
    },
    {
      "cell_type": "code",
      "source": [
        "# Saving the output of the training in a varibale named 'history'\n",
        "# It contains a report of the behavior of the loss during the iterations.\n",
        "\n",
        "history = model.fit(x_train, y_train, epochs = 10, validation_split = 0.1)"
      ],
      "metadata": {
        "colab": {
          "base_uri": "https://localhost:8080/"
        },
        "id": "bci0TbrJR-fu",
        "outputId": "51751640-b69b-482e-9877-aedfaba53fa5"
      },
      "execution_count": null,
      "outputs": [
        {
          "output_type": "stream",
          "name": "stdout",
          "text": [
            "Epoch 1/10\n",
            "1688/1688 [==============================] - 8s 4ms/step - loss: 0.5365 - accuracy: 0.8134 - val_loss: 0.4396 - val_accuracy: 0.8372\n",
            "Epoch 2/10\n",
            "1688/1688 [==============================] - 10s 6ms/step - loss: 0.3987 - accuracy: 0.8578 - val_loss: 0.3724 - val_accuracy: 0.8627\n",
            "Epoch 3/10\n",
            "1688/1688 [==============================] - 6s 4ms/step - loss: 0.3574 - accuracy: 0.8710 - val_loss: 0.3604 - val_accuracy: 0.8715\n",
            "Epoch 4/10\n",
            "1688/1688 [==============================] - 5s 3ms/step - loss: 0.3322 - accuracy: 0.8795 - val_loss: 0.3597 - val_accuracy: 0.8740\n",
            "Epoch 5/10\n",
            "1688/1688 [==============================] - 7s 4ms/step - loss: 0.3139 - accuracy: 0.8872 - val_loss: 0.3412 - val_accuracy: 0.8778\n",
            "Epoch 6/10\n",
            "1688/1688 [==============================] - 6s 3ms/step - loss: 0.3008 - accuracy: 0.8908 - val_loss: 0.3333 - val_accuracy: 0.8803\n",
            "Epoch 7/10\n",
            "1688/1688 [==============================] - 6s 3ms/step - loss: 0.2855 - accuracy: 0.8957 - val_loss: 0.3214 - val_accuracy: 0.8852\n",
            "Epoch 8/10\n",
            "1688/1688 [==============================] - 5s 3ms/step - loss: 0.2767 - accuracy: 0.8989 - val_loss: 0.3278 - val_accuracy: 0.8873\n",
            "Epoch 9/10\n",
            "1688/1688 [==============================] - 6s 3ms/step - loss: 0.2647 - accuracy: 0.9030 - val_loss: 0.3371 - val_accuracy: 0.8805\n",
            "Epoch 10/10\n",
            "1688/1688 [==============================] - 6s 4ms/step - loss: 0.2591 - accuracy: 0.9056 - val_loss: 0.3501 - val_accuracy: 0.8793\n"
          ]
        }
      ]
    },
    {
      "cell_type": "markdown",
      "source": [
        "The accuracy obtained at the end of the training is incredibly high wrt the first epoch."
      ],
      "metadata": {
        "id": "tLWCfSRzHO4z"
      }
    },
    {
      "cell_type": "code",
      "source": [
        "# Let's try the behavior when tested on the test set.\n",
        "\n",
        "model.evaluate(x_test, y_test)"
      ],
      "metadata": {
        "colab": {
          "base_uri": "https://localhost:8080/"
        },
        "id": "XZ41qoW4SoIB",
        "outputId": "a941f33e-9014-4265-c7c0-8edd134e1dd5"
      },
      "execution_count": null,
      "outputs": [
        {
          "output_type": "stream",
          "name": "stdout",
          "text": [
            "313/313 [==============================] - 1s 2ms/step - loss: 0.3797 - accuracy: 0.8643\n"
          ]
        },
        {
          "output_type": "execute_result",
          "data": {
            "text/plain": [
              "[0.37970131635665894, 0.864300012588501]"
            ]
          },
          "metadata": {},
          "execution_count": 38
        }
      ]
    },
    {
      "cell_type": "markdown",
      "source": [
        "Let's see how to predict a single shape."
      ],
      "metadata": {
        "id": "Vbjty9UTH6s-"
      }
    },
    {
      "cell_type": "code",
      "source": [
        "# Get a single digit and the corresponding label from x_test\n",
        "\n",
        "n = 60 # Index\n",
        "x = x_test[n, :, :]\n",
        "y = y_test[n]\n",
        "\n",
        "# Visualize the shape\n",
        "def show(x,y):\n",
        "  if len(x.shape) == 3:\n",
        "    x = x[:,:,0]\n",
        "  elif len(x.shape) == 4:\n",
        "    x = x[0,:,:,0]\n",
        "\n",
        "  true_class = np.argmax(y)\n",
        "\n",
        "  plt.imshow(x)\n",
        "  plt.gray()\n",
        "  plt.title(f'True Class: {true_class}')\n",
        "  plt.show()\n",
        "\n",
        "show(x, y)\n",
        "\n",
        "# Exploit the network to predict the value for the digit\n",
        "\n",
        "y_predict = model.predict(np.expand_dims(x,0))\n",
        "shape_predicted = np.argmax(y_predict)\n",
        "\n",
        "print(f'Predicted Class: {shape_predicted}')"
      ],
      "metadata": {
        "colab": {
          "base_uri": "https://localhost:8080/",
          "height": 488
        },
        "id": "fs0QmOmJdqXh",
        "outputId": "e9f7d821-06b2-4ebd-9fc4-7c3dcb531611"
      },
      "execution_count": null,
      "outputs": [
        {
          "output_type": "display_data",
          "data": {
            "text/plain": [
              "<Figure size 640x480 with 1 Axes>"
            ],
            "image/png": "[encoded data removed]"
          },
          "metadata": {}
        },
        {
          "output_type": "stream",
          "name": "stdout",
          "text": [
            "1/1 [==============================] - 0s 73ms/step\n",
            "Predicted Class: 7\n"
          ]
        }
      ]
    },
    {
      "cell_type": "code",
      "source": [
        "# Let's define a function in order to display \n",
        "# the behavior of accuracies and losses during the training,\n",
        "# exploiting the 'history' that we saved before.\n",
        "\n",
        "def display_history(history):\n",
        "  mse_training = history.history['loss']\n",
        "  acc_training = history.history['accuracy']\n",
        "\n",
        "  mse_val = history.history['val_loss']\n",
        "  acc_val = history.history['val_accuracy']\n",
        "\n",
        "  # Visualize the behavior of the loss\n",
        "  plt.plot(mse_training)\n",
        "  plt.plot(mse_val)\n",
        "  plt.grid()\n",
        "  plt.title('Loss during training')\n",
        "  plt.xlabel('Epoch')\n",
        "  plt.legend(['Training', ' Validation'])\n",
        "  plt.show()\n",
        "\n",
        "  # Visualize the behavior of the accuracy\n",
        "  plt.plot(acc_training)\n",
        "  plt.plot(acc_val)\n",
        "  plt.grid()\n",
        "  plt.title('Accuracy during training')\n",
        "  plt.xlabel('Epoch')\n",
        "  plt.legend(['Training', 'Validation'])\n",
        "  plt.show()"
      ],
      "metadata": {
        "id": "-Ykd3MqoIIrt"
      },
      "execution_count": null,
      "outputs": []
    },
    {
      "cell_type": "code",
      "source": [
        "display_history(history)"
      ],
      "metadata": {
        "colab": {
          "base_uri": "https://localhost:8080/",
          "height": 927
        },
        "id": "riZ1b81yStQh",
        "outputId": "7e855e85-2a99-46e9-b061-32ebc31c75bb"
      },
      "execution_count": null,
      "outputs": [
        {
          "output_type": "display_data",
          "data": {
            "text/plain": [
              "<Figure size 640x480 with 1 Axes>"
            ],
            "image/png": "[encoded data removed]"
          },
          "metadata": {}
        },
        {
          "output_type": "display_data",
          "data": {
            "text/plain": [
              "<Figure size 640x480 with 1 Axes>"
            ],
            "image/png": "[encoded data removed]"
          },
          "metadata": {}
        }
      ]
    }
  ]
}