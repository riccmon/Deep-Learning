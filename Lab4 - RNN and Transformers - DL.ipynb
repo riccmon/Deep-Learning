{
  "nbformat": 4,
  "nbformat_minor": 0,
  "metadata": {
    "colab": {
      "provenance": [],
      "gpuType": "T4"
    },
    "kernelspec": {
      "name": "python3",
      "display_name": "Python 3"
    },
    "language_info": {
      "name": "python"
    },
    "accelerator": "GPU",
    "gpuClass": "standard",
    "widgets": {
      "application/vnd.jupyter.widget-state+json": {
        "456f2dfc2c2449ed95d9b4b87752005e": {
          "model_module": "@jupyter-widgets/controls",
          "model_name": "HBoxModel",
          "model_module_version": "1.5.0",
          "state": {
            "_dom_classes": [],
            "_model_module": "@jupyter-widgets/controls",
            "_model_module_version": "1.5.0",
            "_model_name": "HBoxModel",
            "_view_count": null,
            "_view_module": "@jupyter-widgets/controls",
            "_view_module_version": "1.5.0",
            "_view_name": "HBoxView",
            "box_style": "",
            "children": [
              "IPY_MODEL_34e708b503654a57a0dfdafa6f0a2a03",
              "IPY_MODEL_9e39d89dd2f4427180db4bd06eebc70f",
              "IPY_MODEL_d8fe449b1c89482aac4708b3d1874b17"
            ],
            "layout": "IPY_MODEL_deb813555efe414fb1a53e9325fd4953"
          }
        },
        "34e708b503654a57a0dfdafa6f0a2a03": {
          "model_module": "@jupyter-widgets/controls",
          "model_name": "HTMLModel",
          "model_module_version": "1.5.0",
          "state": {
            "_dom_classes": [],
            "_model_module": "@jupyter-widgets/controls",
            "_model_module_version": "1.5.0",
            "_model_name": "HTMLModel",
            "_view_count": null,
            "_view_module": "@jupyter-widgets/controls",
            "_view_module_version": "1.5.0",
            "_view_name": "HTMLView",
            "description": "",
            "description_tooltip": null,
            "layout": "IPY_MODEL_2ae51f54d4dc458e977390d93d9afde8",
            "placeholder": "​",
            "style": "IPY_MODEL_f95601a270d04b13b6f69f2abdd33b87",
            "value": "Downloading (…)lve/main/config.json: 100%"
          }
        },
        "9e39d89dd2f4427180db4bd06eebc70f": {
          "model_module": "@jupyter-widgets/controls",
          "model_name": "FloatProgressModel",
          "model_module_version": "1.5.0",
          "state": {
            "_dom_classes": [],
            "_model_module": "@jupyter-widgets/controls",
            "_model_module_version": "1.5.0",
            "_model_name": "FloatProgressModel",
            "_view_count": null,
            "_view_module": "@jupyter-widgets/controls",
            "_view_module_version": "1.5.0",
            "_view_name": "ProgressView",
            "bar_style": "success",
            "description": "",
            "description_tooltip": null,
            "layout": "IPY_MODEL_db1866eacbce492581a5596f412f833d",
            "max": 625,
            "min": 0,
            "orientation": "horizontal",
            "style": "IPY_MODEL_f9a1b1f6cb964ac08b7a89da54dca50e",
            "value": 625
          }
        },
        "d8fe449b1c89482aac4708b3d1874b17": {
          "model_module": "@jupyter-widgets/controls",
          "model_name": "HTMLModel",
          "model_module_version": "1.5.0",
          "state": {
            "_dom_classes": [],
            "_model_module": "@jupyter-widgets/controls",
            "_model_module_version": "1.5.0",
            "_model_name": "HTMLModel",
            "_view_count": null,
            "_view_module": "@jupyter-widgets/controls",
            "_view_module_version": "1.5.0",
            "_view_name": "HTMLView",
            "description": "",
            "description_tooltip": null,
            "layout": "IPY_MODEL_34850a42aeb44fca84123b70e8347468",
            "placeholder": "​",
            "style": "IPY_MODEL_df1a6299cf924bb5ba7e7d41a41cd5e0",
            "value": " 625/625 [00:00&lt;00:00, 19.4kB/s]"
          }
        },
        "deb813555efe414fb1a53e9325fd4953": {
          "model_module": "@jupyter-widgets/base",
          "model_name": "LayoutModel",
          "model_module_version": "1.2.0",
          "state": {
            "_model_module": "@jupyter-widgets/base",
            "_model_module_version": "1.2.0",
            "_model_name": "LayoutModel",
            "_view_count": null,
            "_view_module": "@jupyter-widgets/base",
            "_view_module_version": "1.2.0",
            "_view_name": "LayoutView",
            "align_content": null,
            "align_items": null,
            "align_self": null,
            "border": null,
            "bottom": null,
            "display": null,
            "flex": null,
            "flex_flow": null,
            "grid_area": null,
            "grid_auto_columns": null,
            "grid_auto_flow": null,
            "grid_auto_rows": null,
            "grid_column": null,
            "grid_gap": null,
            "grid_row": null,
            "grid_template_areas": null,
            "grid_template_columns": null,
            "grid_template_rows": null,
            "height": null,
            "justify_content": null,
            "justify_items": null,
            "left": null,
            "margin": null,
            "max_height": null,
            "max_width": null,
            "min_height": null,
            "min_width": null,
            "object_fit": null,
            "object_position": null,
            "order": null,
            "overflow": null,
            "overflow_x": null,
            "overflow_y": null,
            "padding": null,
            "right": null,
            "top": null,
            "visibility": null,
            "width": null
          }
        },
        "2ae51f54d4dc458e977390d93d9afde8": {
          "model_module": "@jupyter-widgets/base",
          "model_name": "LayoutModel",
          "model_module_version": "1.2.0",
          "state": {
            "_model_module": "@jupyter-widgets/base",
            "_model_module_version": "1.2.0",
            "_model_name": "LayoutModel",
            "_view_count": null,
            "_view_module": "@jupyter-widgets/base",
            "_view_module_version": "1.2.0",
            "_view_name": "LayoutView",
            "align_content": null,
            "align_items": null,
            "align_self": null,
            "border": null,
            "bottom": null,
            "display": null,
            "flex": null,
            "flex_flow": null,
            "grid_area": null,
            "grid_auto_columns": null,
            "grid_auto_flow": null,
            "grid_auto_rows": null,
            "grid_column": null,
            "grid_gap": null,
            "grid_row": null,
            "grid_template_areas": null,
            "grid_template_columns": null,
            "grid_template_rows": null,
            "height": null,
            "justify_content": null,
            "justify_items": null,
            "left": null,
            "margin": null,
            "max_height": null,
            "max_width": null,
            "min_height": null,
            "min_width": null,
            "object_fit": null,
            "object_position": null,
            "order": null,
            "overflow": null,
            "overflow_x": null,
            "overflow_y": null,
            "padding": null,
            "right": null,
            "top": null,
            "visibility": null,
            "width": null
          }
        },
        "f95601a270d04b13b6f69f2abdd33b87": {
          "model_module": "@jupyter-widgets/controls",
          "model_name": "DescriptionStyleModel",
          "model_module_version": "1.5.0",
          "state": {
            "_model_module": "@jupyter-widgets/controls",
            "_model_module_version": "1.5.0",
            "_model_name": "DescriptionStyleModel",
            "_view_count": null,
            "_view_module": "@jupyter-widgets/base",
            "_view_module_version": "1.2.0",
            "_view_name": "StyleView",
            "description_width": ""
          }
        },
        "db1866eacbce492581a5596f412f833d": {
          "model_module": "@jupyter-widgets/base",
          "model_name": "LayoutModel",
          "model_module_version": "1.2.0",
          "state": {
            "_model_module": "@jupyter-widgets/base",
            "_model_module_version": "1.2.0",
            "_model_name": "LayoutModel",
            "_view_count": null,
            "_view_module": "@jupyter-widgets/base",
            "_view_module_version": "1.2.0",
            "_view_name": "LayoutView",
            "align_content": null,
            "align_items": null,
            "align_self": null,
            "border": null,
            "bottom": null,
            "display": null,
            "flex": null,
            "flex_flow": null,
            "grid_area": null,
            "grid_auto_columns": null,
            "grid_auto_flow": null,
            "grid_auto_rows": null,
            "grid_column": null,
            "grid_gap": null,
            "grid_row": null,
            "grid_template_areas": null,
            "grid_template_columns": null,
            "grid_template_rows": null,
            "height": null,
            "justify_content": null,
            "justify_items": null,
            "left": null,
            "margin": null,
            "max_height": null,
            "max_width": null,
            "min_height": null,
            "min_width": null,
            "object_fit": null,
            "object_position": null,
            "order": null,
            "overflow": null,
            "overflow_x": null,
            "overflow_y": null,
            "padding": null,
            "right": null,
            "top": null,
            "visibility": null,
            "width": null
          }
        },
        "f9a1b1f6cb964ac08b7a89da54dca50e": {
          "model_module": "@jupyter-widgets/controls",
          "model_name": "ProgressStyleModel",
          "model_module_version": "1.5.0",
          "state": {
            "_model_module": "@jupyter-widgets/controls",
            "_model_module_version": "1.5.0",
            "_model_name": "ProgressStyleModel",
            "_view_count": null,
            "_view_module": "@jupyter-widgets/base",
            "_view_module_version": "1.2.0",
            "_view_name": "StyleView",
            "bar_color": null,
            "description_width": ""
          }
        },
        "34850a42aeb44fca84123b70e8347468": {
          "model_module": "@jupyter-widgets/base",
          "model_name": "LayoutModel",
          "model_module_version": "1.2.0",
          "state": {
            "_model_module": "@jupyter-widgets/base",
            "_model_module_version": "1.2.0",
            "_model_name": "LayoutModel",
            "_view_count": null,
            "_view_module": "@jupyter-widgets/base",
            "_view_module_version": "1.2.0",
            "_view_name": "LayoutView",
            "align_content": null,
            "align_items": null,
            "align_self": null,
            "border": null,
            "bottom": null,
            "display": null,
            "flex": null,
            "flex_flow": null,
            "grid_area": null,
            "grid_auto_columns": null,
            "grid_auto_flow": null,
            "grid_auto_rows": null,
            "grid_column": null,
            "grid_gap": null,
            "grid_row": null,
            "grid_template_areas": null,
            "grid_template_columns": null,
            "grid_template_rows": null,
            "height": null,
            "justify_content": null,
            "justify_items": null,
            "left": null,
            "margin": null,
            "max_height": null,
            "max_width": null,
            "min_height": null,
            "min_width": null,
            "object_fit": null,
            "object_position": null,
            "order": null,
            "overflow": null,
            "overflow_x": null,
            "overflow_y": null,
            "padding": null,
            "right": null,
            "top": null,
            "visibility": null,
            "width": null
          }
        },
        "df1a6299cf924bb5ba7e7d41a41cd5e0": {
          "model_module": "@jupyter-widgets/controls",
          "model_name": "DescriptionStyleModel",
          "model_module_version": "1.5.0",
          "state": {
            "_model_module": "@jupyter-widgets/controls",
            "_model_module_version": "1.5.0",
            "_model_name": "DescriptionStyleModel",
            "_view_count": null,
            "_view_module": "@jupyter-widgets/base",
            "_view_module_version": "1.2.0",
            "_view_name": "StyleView",
            "description_width": ""
          }
        },
        "0d64aa424e1647c4b42f956fc7faf091": {
          "model_module": "@jupyter-widgets/controls",
          "model_name": "HBoxModel",
          "model_module_version": "1.5.0",
          "state": {
            "_dom_classes": [],
            "_model_module": "@jupyter-widgets/controls",
            "_model_module_version": "1.5.0",
            "_model_name": "HBoxModel",
            "_view_count": null,
            "_view_module": "@jupyter-widgets/controls",
            "_view_module_version": "1.5.0",
            "_view_name": "HBoxView",
            "box_style": "",
            "children": [
              "IPY_MODEL_15d8612b42dd4e7b9b32336bd3850ba8",
              "IPY_MODEL_bbc455a2fe494586be214b8f26b11cb1",
              "IPY_MODEL_b7783a17754e4deb9d9c79926b118f53"
            ],
            "layout": "IPY_MODEL_be9e48acbce74f3faa9bb6a10397bdb3"
          }
        },
        "15d8612b42dd4e7b9b32336bd3850ba8": {
          "model_module": "@jupyter-widgets/controls",
          "model_name": "HTMLModel",
          "model_module_version": "1.5.0",
          "state": {
            "_dom_classes": [],
            "_model_module": "@jupyter-widgets/controls",
            "_model_module_version": "1.5.0",
            "_model_name": "HTMLModel",
            "_view_count": null,
            "_view_module": "@jupyter-widgets/controls",
            "_view_module_version": "1.5.0",
            "_view_name": "HTMLView",
            "description": "",
            "description_tooltip": null,
            "layout": "IPY_MODEL_db184ba4e3344b0582131421f6c2e6e5",
            "placeholder": "​",
            "style": "IPY_MODEL_0a62e14aa3404b30b5e3805f519ac9c5",
            "value": "Downloading (…)solve/main/vocab.txt: 100%"
          }
        },
        "bbc455a2fe494586be214b8f26b11cb1": {
          "model_module": "@jupyter-widgets/controls",
          "model_name": "FloatProgressModel",
          "model_module_version": "1.5.0",
          "state": {
            "_dom_classes": [],
            "_model_module": "@jupyter-widgets/controls",
            "_model_module_version": "1.5.0",
            "_model_name": "FloatProgressModel",
            "_view_count": null,
            "_view_module": "@jupyter-widgets/controls",
            "_view_module_version": "1.5.0",
            "_view_name": "ProgressView",
            "bar_style": "success",
            "description": "",
            "description_tooltip": null,
            "layout": "IPY_MODEL_90524061ea9d4ff4815684c1d234f379",
            "max": 1108715,
            "min": 0,
            "orientation": "horizontal",
            "style": "IPY_MODEL_bf19ef5624a94f21a5600f5ff7cb54bd",
            "value": 1108715
          }
        },
        "b7783a17754e4deb9d9c79926b118f53": {
          "model_module": "@jupyter-widgets/controls",
          "model_name": "HTMLModel",
          "model_module_version": "1.5.0",
          "state": {
            "_dom_classes": [],
            "_model_module": "@jupyter-widgets/controls",
            "_model_module_version": "1.5.0",
            "_model_name": "HTMLModel",
            "_view_count": null,
            "_view_module": "@jupyter-widgets/controls",
            "_view_module_version": "1.5.0",
            "_view_name": "HTMLView",
            "description": "",
            "description_tooltip": null,
            "layout": "IPY_MODEL_23b3852ef9a74adba8683df09484915f",
            "placeholder": "​",
            "style": "IPY_MODEL_e2353efe26a941a4840eea4be2b7463f",
            "value": " 1.11M/1.11M [00:00&lt;00:00, 1.32MB/s]"
          }
        },
        "be9e48acbce74f3faa9bb6a10397bdb3": {
          "model_module": "@jupyter-widgets/base",
          "model_name": "LayoutModel",
          "model_module_version": "1.2.0",
          "state": {
            "_model_module": "@jupyter-widgets/base",
            "_model_module_version": "1.2.0",
            "_model_name": "LayoutModel",
            "_view_count": null,
            "_view_module": "@jupyter-widgets/base",
            "_view_module_version": "1.2.0",
            "_view_name": "LayoutView",
            "align_content": null,
            "align_items": null,
            "align_self": null,
            "border": null,
            "bottom": null,
            "display": null,
            "flex": null,
            "flex_flow": null,
            "grid_area": null,
            "grid_auto_columns": null,
            "grid_auto_flow": null,
            "grid_auto_rows": null,
            "grid_column": null,
            "grid_gap": null,
            "grid_row": null,
            "grid_template_areas": null,
            "grid_template_columns": null,
            "grid_template_rows": null,
            "height": null,
            "justify_content": null,
            "justify_items": null,
            "left": null,
            "margin": null,
            "max_height": null,
            "max_width": null,
            "min_height": null,
            "min_width": null,
            "object_fit": null,
            "object_position": null,
            "order": null,
            "overflow": null,
            "overflow_x": null,
            "overflow_y": null,
            "padding": null,
            "right": null,
            "top": null,
            "visibility": null,
            "width": null
          }
        },
        "db184ba4e3344b0582131421f6c2e6e5": {
          "model_module": "@jupyter-widgets/base",
          "model_name": "LayoutModel",
          "model_module_version": "1.2.0",
          "state": {
            "_model_module": "@jupyter-widgets/base",
            "_model_module_version": "1.2.0",
            "_model_name": "LayoutModel",
            "_view_count": null,
            "_view_module": "@jupyter-widgets/base",
            "_view_module_version": "1.2.0",
            "_view_name": "LayoutView",
            "align_content": null,
            "align_items": null,
            "align_self": null,
            "border": null,
            "bottom": null,
            "display": null,
            "flex": null,
            "flex_flow": null,
            "grid_area": null,
            "grid_auto_columns": null,
            "grid_auto_flow": null,
            "grid_auto_rows": null,
            "grid_column": null,
            "grid_gap": null,
            "grid_row": null,
            "grid_template_areas": null,
            "grid_template_columns": null,
            "grid_template_rows": null,
            "height": null,
            "justify_content": null,
            "justify_items": null,
            "left": null,
            "margin": null,
            "max_height": null,
            "max_width": null,
            "min_height": null,
            "min_width": null,
            "object_fit": null,
            "object_position": null,
            "order": null,
            "overflow": null,
            "overflow_x": null,
            "overflow_y": null,
            "padding": null,
            "right": null,
            "top": null,
            "visibility": null,
            "width": null
          }
        },
        "0a62e14aa3404b30b5e3805f519ac9c5": {
          "model_module": "@jupyter-widgets/controls",
          "model_name": "DescriptionStyleModel",
          "model_module_version": "1.5.0",
          "state": {
            "_model_module": "@jupyter-widgets/controls",
            "_model_module_version": "1.5.0",
            "_model_name": "DescriptionStyleModel",
            "_view_count": null,
            "_view_module": "@jupyter-widgets/base",
            "_view_module_version": "1.2.0",
            "_view_name": "StyleView",
            "description_width": ""
          }
        },
        "90524061ea9d4ff4815684c1d234f379": {
          "model_module": "@jupyter-widgets/base",
          "model_name": "LayoutModel",
          "model_module_version": "1.2.0",
          "state": {
            "_model_module": "@jupyter-widgets/base",
            "_model_module_version": "1.2.0",
            "_model_name": "LayoutModel",
            "_view_count": null,
            "_view_module": "@jupyter-widgets/base",
            "_view_module_version": "1.2.0",
            "_view_name": "LayoutView",
            "align_content": null,
            "align_items": null,
            "align_self": null,
            "border": null,
            "bottom": null,
            "display": null,
            "flex": null,
            "flex_flow": null,
            "grid_area": null,
            "grid_auto_columns": null,
            "grid_auto_flow": null,
            "grid_auto_rows": null,
            "grid_column": null,
            "grid_gap": null,
            "grid_row": null,
            "grid_template_areas": null,
            "grid_template_columns": null,
            "grid_template_rows": null,
            "height": null,
            "justify_content": null,
            "justify_items": null,
            "left": null,
            "margin": null,
            "max_height": null,
            "max_width": null,
            "min_height": null,
            "min_width": null,
            "object_fit": null,
            "object_position": null,
            "order": null,
            "overflow": null,
            "overflow_x": null,
            "overflow_y": null,
            "padding": null,
            "right": null,
            "top": null,
            "visibility": null,
            "width": null
          }
        },
        "bf19ef5624a94f21a5600f5ff7cb54bd": {
          "model_module": "@jupyter-widgets/controls",
          "model_name": "ProgressStyleModel",
          "model_module_version": "1.5.0",
          "state": {
            "_model_module": "@jupyter-widgets/controls",
            "_model_module_version": "1.5.0",
            "_model_name": "ProgressStyleModel",
            "_view_count": null,
            "_view_module": "@jupyter-widgets/base",
            "_view_module_version": "1.2.0",
            "_view_name": "StyleView",
            "bar_color": null,
            "description_width": ""
          }
        },
        "23b3852ef9a74adba8683df09484915f": {
          "model_module": "@jupyter-widgets/base",
          "model_name": "LayoutModel",
          "model_module_version": "1.2.0",
          "state": {
            "_model_module": "@jupyter-widgets/base",
            "_model_module_version": "1.2.0",
            "_model_name": "LayoutModel",
            "_view_count": null,
            "_view_module": "@jupyter-widgets/base",
            "_view_module_version": "1.2.0",
            "_view_name": "LayoutView",
            "align_content": null,
            "align_items": null,
            "align_self": null,
            "border": null,
            "bottom": null,
            "display": null,
            "flex": null,
            "flex_flow": null,
            "grid_area": null,
            "grid_auto_columns": null,
            "grid_auto_flow": null,
            "grid_auto_rows": null,
            "grid_column": null,
            "grid_gap": null,
            "grid_row": null,
            "grid_template_areas": null,
            "grid_template_columns": null,
            "grid_template_rows": null,
            "height": null,
            "justify_content": null,
            "justify_items": null,
            "left": null,
            "margin": null,
            "max_height": null,
            "max_width": null,
            "min_height": null,
            "min_width": null,
            "object_fit": null,
            "object_position": null,
            "order": null,
            "overflow": null,
            "overflow_x": null,
            "overflow_y": null,
            "padding": null,
            "right": null,
            "top": null,
            "visibility": null,
            "width": null
          }
        },
        "e2353efe26a941a4840eea4be2b7463f": {
          "model_module": "@jupyter-widgets/controls",
          "model_name": "DescriptionStyleModel",
          "model_module_version": "1.5.0",
          "state": {
            "_model_module": "@jupyter-widgets/controls",
            "_model_module_version": "1.5.0",
            "_model_name": "DescriptionStyleModel",
            "_view_count": null,
            "_view_module": "@jupyter-widgets/base",
            "_view_module_version": "1.2.0",
            "_view_name": "StyleView",
            "description_width": ""
          }
        },
        "1df13dbfbc1c4774b8c74028d2fbdea4": {
          "model_module": "@jupyter-widgets/controls",
          "model_name": "HBoxModel",
          "model_module_version": "1.5.0",
          "state": {
            "_dom_classes": [],
            "_model_module": "@jupyter-widgets/controls",
            "_model_module_version": "1.5.0",
            "_model_name": "HBoxModel",
            "_view_count": null,
            "_view_module": "@jupyter-widgets/controls",
            "_view_module_version": "1.5.0",
            "_view_name": "HBoxView",
            "box_style": "",
            "children": [
              "IPY_MODEL_d8f805d20bdf4845a81c2f6ae0f8efce",
              "IPY_MODEL_bd2901bcb3b54d56a7d126ba1c78625c",
              "IPY_MODEL_12a2450db49a435a94c6f50f3666c6b3"
            ],
            "layout": "IPY_MODEL_d873ec18f6774e7c832c3f14fa4b0982"
          }
        },
        "d8f805d20bdf4845a81c2f6ae0f8efce": {
          "model_module": "@jupyter-widgets/controls",
          "model_name": "HTMLModel",
          "model_module_version": "1.5.0",
          "state": {
            "_dom_classes": [],
            "_model_module": "@jupyter-widgets/controls",
            "_model_module_version": "1.5.0",
            "_model_name": "HTMLModel",
            "_view_count": null,
            "_view_module": "@jupyter-widgets/controls",
            "_view_module_version": "1.5.0",
            "_view_name": "HTMLView",
            "description": "",
            "description_tooltip": null,
            "layout": "IPY_MODEL_5f9a3918f0634a7eb4d93f10e6b01f67",
            "placeholder": "​",
            "style": "IPY_MODEL_e3b28c40f2004872b737f390e10d88d4",
            "value": "Downloading tf_model.h5: 100%"
          }
        },
        "bd2901bcb3b54d56a7d126ba1c78625c": {
          "model_module": "@jupyter-widgets/controls",
          "model_name": "FloatProgressModel",
          "model_module_version": "1.5.0",
          "state": {
            "_dom_classes": [],
            "_model_module": "@jupyter-widgets/controls",
            "_model_module_version": "1.5.0",
            "_model_name": "FloatProgressModel",
            "_view_count": null,
            "_view_module": "@jupyter-widgets/controls",
            "_view_module_version": "1.5.0",
            "_view_name": "ProgressView",
            "bar_style": "success",
            "description": "",
            "description_tooltip": null,
            "layout": "IPY_MODEL_01596dd76ef24932afb2718d291d5200",
            "max": 737643288,
            "min": 0,
            "orientation": "horizontal",
            "style": "IPY_MODEL_96cd65b2dfc5495584dea703b9261764",
            "value": 737643288
          }
        },
        "12a2450db49a435a94c6f50f3666c6b3": {
          "model_module": "@jupyter-widgets/controls",
          "model_name": "HTMLModel",
          "model_module_version": "1.5.0",
          "state": {
            "_dom_classes": [],
            "_model_module": "@jupyter-widgets/controls",
            "_model_module_version": "1.5.0",
            "_model_name": "HTMLModel",
            "_view_count": null,
            "_view_module": "@jupyter-widgets/controls",
            "_view_module_version": "1.5.0",
            "_view_name": "HTMLView",
            "description": "",
            "description_tooltip": null,
            "layout": "IPY_MODEL_fabbd75da44844db9999ad3b0317adba",
            "placeholder": "​",
            "style": "IPY_MODEL_1c98c268434f477abaf87bce039f4a45",
            "value": " 738M/738M [00:46&lt;00:00, 15.4MB/s]"
          }
        },
        "d873ec18f6774e7c832c3f14fa4b0982": {
          "model_module": "@jupyter-widgets/base",
          "model_name": "LayoutModel",
          "model_module_version": "1.2.0",
          "state": {
            "_model_module": "@jupyter-widgets/base",
            "_model_module_version": "1.2.0",
            "_model_name": "LayoutModel",
            "_view_count": null,
            "_view_module": "@jupyter-widgets/base",
            "_view_module_version": "1.2.0",
            "_view_name": "LayoutView",
            "align_content": null,
            "align_items": null,
            "align_self": null,
            "border": null,
            "bottom": null,
            "display": null,
            "flex": null,
            "flex_flow": null,
            "grid_area": null,
            "grid_auto_columns": null,
            "grid_auto_flow": null,
            "grid_auto_rows": null,
            "grid_column": null,
            "grid_gap": null,
            "grid_row": null,
            "grid_template_areas": null,
            "grid_template_columns": null,
            "grid_template_rows": null,
            "height": null,
            "justify_content": null,
            "justify_items": null,
            "left": null,
            "margin": null,
            "max_height": null,
            "max_width": null,
            "min_height": null,
            "min_width": null,
            "object_fit": null,
            "object_position": null,
            "order": null,
            "overflow": null,
            "overflow_x": null,
            "overflow_y": null,
            "padding": null,
            "right": null,
            "top": null,
            "visibility": null,
            "width": null
          }
        },
        "5f9a3918f0634a7eb4d93f10e6b01f67": {
          "model_module": "@jupyter-widgets/base",
          "model_name": "LayoutModel",
          "model_module_version": "1.2.0",
          "state": {
            "_model_module": "@jupyter-widgets/base",
            "_model_module_version": "1.2.0",
            "_model_name": "LayoutModel",
            "_view_count": null,
            "_view_module": "@jupyter-widgets/base",
            "_view_module_version": "1.2.0",
            "_view_name": "LayoutView",
            "align_content": null,
            "align_items": null,
            "align_self": null,
            "border": null,
            "bottom": null,
            "display": null,
            "flex": null,
            "flex_flow": null,
            "grid_area": null,
            "grid_auto_columns": null,
            "grid_auto_flow": null,
            "grid_auto_rows": null,
            "grid_column": null,
            "grid_gap": null,
            "grid_row": null,
            "grid_template_areas": null,
            "grid_template_columns": null,
            "grid_template_rows": null,
            "height": null,
            "justify_content": null,
            "justify_items": null,
            "left": null,
            "margin": null,
            "max_height": null,
            "max_width": null,
            "min_height": null,
            "min_width": null,
            "object_fit": null,
            "object_position": null,
            "order": null,
            "overflow": null,
            "overflow_x": null,
            "overflow_y": null,
            "padding": null,
            "right": null,
            "top": null,
            "visibility": null,
            "width": null
          }
        },
        "e3b28c40f2004872b737f390e10d88d4": {
          "model_module": "@jupyter-widgets/controls",
          "model_name": "DescriptionStyleModel",
          "model_module_version": "1.5.0",
          "state": {
            "_model_module": "@jupyter-widgets/controls",
            "_model_module_version": "1.5.0",
            "_model_name": "DescriptionStyleModel",
            "_view_count": null,
            "_view_module": "@jupyter-widgets/base",
            "_view_module_version": "1.2.0",
            "_view_name": "StyleView",
            "description_width": ""
          }
        },
        "01596dd76ef24932afb2718d291d5200": {
          "model_module": "@jupyter-widgets/base",
          "model_name": "LayoutModel",
          "model_module_version": "1.2.0",
          "state": {
            "_model_module": "@jupyter-widgets/base",
            "_model_module_version": "1.2.0",
            "_model_name": "LayoutModel",
            "_view_count": null,
            "_view_module": "@jupyter-widgets/base",
            "_view_module_version": "1.2.0",
            "_view_name": "LayoutView",
            "align_content": null,
            "align_items": null,
            "align_self": null,
            "border": null,
            "bottom": null,
            "display": null,
            "flex": null,
            "flex_flow": null,
            "grid_area": null,
            "grid_auto_columns": null,
            "grid_auto_flow": null,
            "grid_auto_rows": null,
            "grid_column": null,
            "grid_gap": null,
            "grid_row": null,
            "grid_template_areas": null,
            "grid_template_columns": null,
            "grid_template_rows": null,
            "height": null,
            "justify_content": null,
            "justify_items": null,
            "left": null,
            "margin": null,
            "max_height": null,
            "max_width": null,
            "min_height": null,
            "min_width": null,
            "object_fit": null,
            "object_position": null,
            "order": null,
            "overflow": null,
            "overflow_x": null,
            "overflow_y": null,
            "padding": null,
            "right": null,
            "top": null,
            "visibility": null,
            "width": null
          }
        },
        "96cd65b2dfc5495584dea703b9261764": {
          "model_module": "@jupyter-widgets/controls",
          "model_name": "ProgressStyleModel",
          "model_module_version": "1.5.0",
          "state": {
            "_model_module": "@jupyter-widgets/controls",
            "_model_module_version": "1.5.0",
            "_model_name": "ProgressStyleModel",
            "_view_count": null,
            "_view_module": "@jupyter-widgets/base",
            "_view_module_version": "1.2.0",
            "_view_name": "StyleView",
            "bar_color": null,
            "description_width": ""
          }
        },
        "fabbd75da44844db9999ad3b0317adba": {
          "model_module": "@jupyter-widgets/base",
          "model_name": "LayoutModel",
          "model_module_version": "1.2.0",
          "state": {
            "_model_module": "@jupyter-widgets/base",
            "_model_module_version": "1.2.0",
            "_model_name": "LayoutModel",
            "_view_count": null,
            "_view_module": "@jupyter-widgets/base",
            "_view_module_version": "1.2.0",
            "_view_name": "LayoutView",
            "align_content": null,
            "align_items": null,
            "align_self": null,
            "border": null,
            "bottom": null,
            "display": null,
            "flex": null,
            "flex_flow": null,
            "grid_area": null,
            "grid_auto_columns": null,
            "grid_auto_flow": null,
            "grid_auto_rows": null,
            "grid_column": null,
            "grid_gap": null,
            "grid_row": null,
            "grid_template_areas": null,
            "grid_template_columns": null,
            "grid_template_rows": null,
            "height": null,
            "justify_content": null,
            "justify_items": null,
            "left": null,
            "margin": null,
            "max_height": null,
            "max_width": null,
            "min_height": null,
            "min_width": null,
            "object_fit": null,
            "object_position": null,
            "order": null,
            "overflow": null,
            "overflow_x": null,
            "overflow_y": null,
            "padding": null,
            "right": null,
            "top": null,
            "visibility": null,
            "width": null
          }
        },
        "1c98c268434f477abaf87bce039f4a45": {
          "model_module": "@jupyter-widgets/controls",
          "model_name": "DescriptionStyleModel",
          "model_module_version": "1.5.0",
          "state": {
            "_model_module": "@jupyter-widgets/controls",
            "_model_module_version": "1.5.0",
            "_model_name": "DescriptionStyleModel",
            "_view_count": null,
            "_view_module": "@jupyter-widgets/base",
            "_view_module_version": "1.2.0",
            "_view_name": "StyleView",
            "description_width": ""
          }
        }
      }
    }
  },
  "cells": [
    {
      "cell_type": "markdown",
      "source": [
        "# RNN and Transformers"
      ],
      "metadata": {
        "id": "wzBBCnIRfnpo"
      }
    },
    {
      "cell_type": "markdown",
      "source": [
        "In this lab lesson we will see how and when to use Recurrent Neural Networks and how to exploits pre-trained Transformers model like Bert.\n",
        "\n",
        "We will be trying to create a model which is able to predict if a sentence contains subjectivity or it is fully objective."
      ],
      "metadata": {
        "id": "7VdMJUo_fnhC"
      }
    },
    {
      "cell_type": "code",
      "execution_count": 1,
      "metadata": {
        "id": "1yolptgTIoYn"
      },
      "outputs": [],
      "source": [
        "# Import necessary libraries\n",
        "\n",
        "import tensorflow as tf\n",
        "import pandas as pd\n",
        "import numpy as np\n",
        "\n",
        "from sklearn.metrics import classification_report\n",
        "from sklearn.utils.class_weight import compute_class_weight "
      ]
    },
    {
      "cell_type": "code",
      "source": [
        "# Load the data\n",
        "\n",
        "# Use this utility function to load the data\n",
        "def  get_data_split(split):\n",
        "  \"\"\"\n",
        "  Args:\n",
        "    - split: the split of the data you want to load.\n",
        "  Returns:\n",
        "    - X, y data, where X is the array containing the sentences and y is the labels vector.\n",
        "\n",
        "  \"\"\"\n",
        "  df = pd.read_csv(f'sentences{split.capitalize()}.csv')\n",
        "  return df['FRASE'].values, df['TAG_FRASE'].values\n"
      ],
      "metadata": {
        "id": "sNegBKfdhedl"
      },
      "execution_count": 2,
      "outputs": []
    },
    {
      "cell_type": "code",
      "source": [
        "sentences_train, labels_train = get_data_split(split = 'train')\n",
        "sentences_val, labels_val = get_data_split(split = 'val')\n",
        "sentences_test, labels_test = get_data_split(split = 'test')"
      ],
      "metadata": {
        "id": "7frKIDw7idHO"
      },
      "execution_count": 3,
      "outputs": []
    },
    {
      "cell_type": "markdown",
      "source": [
        "## RNN"
      ],
      "metadata": {
        "id": "fZ_s4GzGjNmo"
      }
    },
    {
      "cell_type": "markdown",
      "source": [
        "Recurrent neural networks (RNN) are a class of neural networks that is powerful for\n",
        "modeling sequence data such as time series or natural language.\n",
        "\n",
        "Schematically, a RNN layer uses a `for` loop to iterate over the timesteps of a\n",
        "sequence, while maintaining an internal state that encodes information about the timesteps it has seen so far.\n",
        "\n",
        "The Keras RNN API is designed with a focus on:\n",
        "\n",
        "- **Ease of use**: the built-in `keras.layers.RNN`, `keras.layers.LSTM`,\n",
        "`keras.layers.GRU` layers enable you to quickly build recurrent models without\n",
        "having to make difficult configuration choices.\n",
        "\n",
        "- **Ease of customization**: You can also define your own RNN cell layer (the inner\n",
        "part of the `for` loop) with custom behavior, and use it with the generic\n",
        "`keras.layers.RNN` layer (the `for` loop itself). This allows you to quickly\n",
        "prototype different research ideas in a flexible way with minimal code.\n",
        "\n",
        "There are three built-in RNN layers in Keras:\n",
        "\n",
        "1. `keras.layers.SimpleRNN`, a fully-connected RNN where the output from previous\n",
        "timestep is to be fed to next timestep.\n",
        "\n",
        "2. `keras.layers.GRU`\n",
        "3. `keras.layers.LSTM`"
      ],
      "metadata": {
        "id": "cZZ8XghbjPN5"
      }
    },
    {
      "cell_type": "markdown",
      "source": [
        "### Data pre-processing"
      ],
      "metadata": {
        "id": "IP1quThL399i"
      }
    },
    {
      "cell_type": "code",
      "source": [
        "# Tokenization: vectorize a text corpus, by turning each text into \n",
        "# either a sequence of integers (each integer being the index of \n",
        "# a token in a dictionary) or into a vector where the coefficient \n",
        "# for each token could be binary.\n",
        "\n",
        "from tensorflow.keras.preprocessing.text import Tokenizer\n",
        "\n",
        "label_to_idx_dict = {'OGG' : 0, 'SOG' : 1}\n",
        "label_to_idx_f = np.vectorize(label_to_idx_dict.get)\n",
        "\n",
        "vocab_dim = 10000\n",
        "\n",
        "def get_tokenizer(x_train):\n",
        "  tokenizer = Tokenizer(num_words = vocab_dim)\n",
        "  tokenizer.fit_on_texts(x_train)\n",
        "  return tokenizer\n",
        "\n",
        "tokenizer = get_tokenizer(sentences_train)"
      ],
      "metadata": {
        "id": "25NoC5AXj0Zh"
      },
      "execution_count": 4,
      "outputs": []
    },
    {
      "cell_type": "code",
      "source": [
        "# pad_sequences :transforms a list (of length num_samples) \n",
        "# of sequences (lists of integers) into a 2D Numpy array of \n",
        "# shape (num_samples, num_timesteps)\n",
        "\n",
        "from tensorflow.keras.utils import pad_sequences\n",
        "\n",
        "maxSentenceLen = 20\n",
        "\n",
        "generate_x = lambda x: pad_sequences(tokenizer.texts_to_sequences(x), maxlen = maxSentenceLen, padding = 'post')\n",
        "\n",
        "x_train = generate_x(sentences_train)\n",
        "x_test = generate_x(sentences_test)\n",
        "x_val = generate_x(sentences_val)\n",
        "\n",
        "y_train = label_to_idx_f(labels_train)\n",
        "y_test = label_to_idx_f(labels_test)\n",
        "y_val = label_to_idx_f(labels_val)\n"
      ],
      "metadata": {
        "id": "vHGMI3di6R9x"
      },
      "execution_count": 5,
      "outputs": []
    },
    {
      "cell_type": "markdown",
      "source": [
        "### Models\n",
        "\n",
        "Build a RNN baseline based on LSTM"
      ],
      "metadata": {
        "id": "KuFQYyG--EWG"
      }
    },
    {
      "cell_type": "code",
      "source": [
        "from tensorflow.keras.layers import Input, Embedding, LSTM, Dense\n",
        "from tensorflow.keras.models import Model\n",
        "from tensorflow.keras.losses import SparseCategoricalCrossentropy\n",
        "from tensorflow.keras.optimizers import Adam\n",
        "\n",
        "def get_rnn_model(input_shape, out_dim, vocab_dim):\n",
        "  input = Input(input_shape)\n",
        "\n",
        "  embedding_layer = Embedding(input_dim = vocab_dim, output_dim = 64)(input)\n",
        "  lstm_1 = LSTM(128, return_sequences = True,\n",
        "                recurrent_dropout = 0.2)(embedding_layer)\n",
        "  lstm_2 = LSTM(64, dropout = 0.2)(lstm_1)\n",
        "\n",
        "  output = Dense(out_dim)(lstm_2)\n",
        "\n",
        "  model = Model(input, output)\n",
        "  model.compile(loss = SparseCategoricalCrossentropy(from_logits=True), \n",
        "                optimizer = Adam(1e-3), metrics=['accuracy'])\n",
        "  model.summary()\n",
        "\n",
        "  return model\n"
      ],
      "metadata": {
        "id": "-1WKaRC8-F7f"
      },
      "execution_count": 6,
      "outputs": []
    },
    {
      "cell_type": "code",
      "source": [
        "# Use callback functions when building and experimenting the model \n",
        "callback = tf.keras.callbacks.EarlyStopping(monitor = 'val_accuracy', \n",
        "                                            mode = 'max', patience = 5, \n",
        "                                            restore_best_weights = True)"
      ],
      "metadata": {
        "id": "FMnV4V60B2BF"
      },
      "execution_count": 7,
      "outputs": []
    },
    {
      "cell_type": "code",
      "source": [
        "model = get_rnn_model((20,), 2, vocab_dim)"
      ],
      "metadata": {
        "colab": {
          "base_uri": "https://localhost:8080/"
        },
        "id": "mrMFtwlDB17t",
        "outputId": "8da99412-1ea4-4f84-8faf-9356cc7e6ed0"
      },
      "execution_count": 8,
      "outputs": [
        {
          "output_type": "stream",
          "name": "stderr",
          "text": [
            "WARNING:tensorflow:Layer lstm will not use cuDNN kernels since it doesn't meet the criteria. It will use a generic GPU kernel as fallback when running on GPU.\n"
          ]
        },
        {
          "output_type": "stream",
          "name": "stdout",
          "text": [
            "Model: \"model\"\n",
            "_________________________________________________________________\n",
            " Layer (type)                Output Shape              Param #   \n",
            "=================================================================\n",
            " input_1 (InputLayer)        [(None, 20)]              0         \n",
            "                                                                 \n",
            " embedding (Embedding)       (None, 20, 64)            640000    \n",
            "                                                                 \n",
            " lstm (LSTM)                 (None, 20, 128)           98816     \n",
            "                                                                 \n",
            " lstm_1 (LSTM)               (None, 64)                49408     \n",
            "                                                                 \n",
            " dense (Dense)               (None, 2)                 130       \n",
            "                                                                 \n",
            "=================================================================\n",
            "Total params: 788,354\n",
            "Trainable params: 788,354\n",
            "Non-trainable params: 0\n",
            "_________________________________________________________________\n"
          ]
        }
      ]
    },
    {
      "cell_type": "code",
      "source": [
        "history = model.fit(x_train, y_train, epochs = 10, \n",
        "                    validation_data = (x_val, y_val), \n",
        "                    callbacks = [callback])"
      ],
      "metadata": {
        "colab": {
          "base_uri": "https://localhost:8080/"
        },
        "id": "GS-edHu0DaQB",
        "outputId": "465701c2-f1d4-407a-e92a-5b2ff989a344"
      },
      "execution_count": 9,
      "outputs": [
        {
          "output_type": "stream",
          "name": "stdout",
          "text": [
            "Epoch 1/10\n",
            "44/44 [==============================] - 22s 286ms/step - loss: 0.6271 - accuracy: 0.7041 - val_loss: 0.7585 - val_accuracy: 0.6233\n",
            "Epoch 2/10\n",
            "44/44 [==============================] - 8s 185ms/step - loss: 0.5467 - accuracy: 0.7384 - val_loss: 0.9725 - val_accuracy: 0.6837\n",
            "Epoch 3/10\n",
            "44/44 [==============================] - 6s 128ms/step - loss: 0.1822 - accuracy: 0.9350 - val_loss: 0.9222 - val_accuracy: 0.6884\n",
            "Epoch 4/10\n",
            "44/44 [==============================] - 7s 150ms/step - loss: 0.0464 - accuracy: 0.9878 - val_loss: 1.3865 - val_accuracy: 0.6605\n",
            "Epoch 5/10\n",
            "44/44 [==============================] - 5s 104ms/step - loss: 0.0192 - accuracy: 0.9943 - val_loss: 1.6604 - val_accuracy: 0.6419\n",
            "Epoch 6/10\n",
            "44/44 [==============================] - 7s 152ms/step - loss: 0.0098 - accuracy: 0.9964 - val_loss: 1.8819 - val_accuracy: 0.6744\n",
            "Epoch 7/10\n",
            "44/44 [==============================] - 7s 158ms/step - loss: 0.0013 - accuracy: 1.0000 - val_loss: 2.0212 - val_accuracy: 0.6791\n",
            "Epoch 8/10\n",
            "44/44 [==============================] - 6s 140ms/step - loss: 3.3018e-04 - accuracy: 1.0000 - val_loss: 2.1189 - val_accuracy: 0.6837\n"
          ]
        }
      ]
    },
    {
      "cell_type": "markdown",
      "source": [
        "Datasets so small (1000 ca elements) tend to overfit, because train and validation are pretty similar. "
      ],
      "metadata": {
        "id": "C-L1WPl0FVMR"
      }
    },
    {
      "cell_type": "code",
      "source": [
        "toLabels = np.vectorize(lambda e:'OGG' if e == 0 else 'SOGG')\n",
        "\n",
        "def evaluate_model(model, x_test, y_test):\n",
        "  \"\"\"\n",
        "  Args:\n",
        "    - model: the model to use to make the prediction.\n",
        "    - x_test: the sentences to label.\n",
        "    - y_test: the actual labels.\n",
        "  Returns:\n",
        "    - The results of the evaluation of the model.\n",
        "\n",
        "  \"\"\"\n",
        "  y_pred = np.argmax(model.predict(x_test), axis = -1)\n",
        "  print(classification_report(toLabels(y_test), y_pred = toLabels(y_pred)))"
      ],
      "metadata": {
        "id": "7VLZ8zSIFlLm"
      },
      "execution_count": 10,
      "outputs": []
    },
    {
      "cell_type": "code",
      "source": [
        "evaluate_model(model, x_test, y_test)"
      ],
      "metadata": {
        "colab": {
          "base_uri": "https://localhost:8080/"
        },
        "id": "5IVmXEITHFwF",
        "outputId": "f72f6c36-f504-4c3c-ef0d-858debfe10d5"
      },
      "execution_count": 11,
      "outputs": [
        {
          "output_type": "stream",
          "name": "stdout",
          "text": [
            "8/8 [==============================] - 1s 8ms/step\n",
            "              precision    recall  f1-score   support\n",
            "\n",
            "         OGG       0.81      0.66      0.73       152\n",
            "        SOGG       0.50      0.69      0.58        75\n",
            "\n",
            "    accuracy                           0.67       227\n",
            "   macro avg       0.66      0.68      0.66       227\n",
            "weighted avg       0.71      0.67      0.68       227\n",
            "\n"
          ]
        }
      ]
    },
    {
      "cell_type": "markdown",
      "source": [
        "### Bidirectional RNNs\n",
        "\n",
        "For sequences other than time series (e.g. text), it is often the case that a RNN model\n",
        "can perform better if it not only processes sequence from start to end, but also\n",
        "backwards. For example, to predict the next word in a sentence, it is often useful to\n",
        "have the context around the word, not only just the words that come before it.\n",
        "\n",
        "Keras provides an easy API for you to build such **bidirectional RNNs**: the\n",
        "`keras.layers.Bidirectional` wrapper.\n",
        "\n",
        "Always worth a try to add the bidirectional layer."
      ],
      "metadata": {
        "id": "5tRTameUfe_A"
      }
    },
    {
      "cell_type": "code",
      "source": [
        "from tensorflow.keras.layers import Bidirectional, TimeDistributed\n",
        "\n",
        "def get_rnn_model_bd(input_shape, out_dim, vocabulary_length):\n",
        "  input = Input(shape=input_shape)\n",
        "\n",
        "  embedding_layer = Embedding(input_dim=vocabulary_length, output_dim=64)(input)\n",
        "\n",
        "  lstm_1 = Bidirectional(LSTM(128, return_sequences=True,\n",
        "                              recurrent_dropout = 0.2))(embedding_layer)\n",
        "\n",
        "  lstm_2 = Bidirectional(LSTM(64, dropout = 0.2))(lstm_1)\n",
        "\n",
        "  output = Dense(out_dim)(lstm_2)\n",
        "\n",
        "  model = Model(input, output)\n",
        "\n",
        "  model.compile(loss=SparseCategoricalCrossentropy(from_logits=True),\n",
        "                optimizer = Adam(1e-3), metrics = ['accuracy'])\n",
        "  \n",
        "  model.summary()\n",
        "  \n",
        "  return model"
      ],
      "metadata": {
        "id": "xG1gPmmQfwY_"
      },
      "execution_count": 13,
      "outputs": []
    },
    {
      "cell_type": "code",
      "source": [
        "model_bd = get_rnn_model_bd((20,), 2, vocab_dim)"
      ],
      "metadata": {
        "colab": {
          "base_uri": "https://localhost:8080/"
        },
        "id": "fm49bzFhgXFV",
        "outputId": "d18a5549-b99f-420c-cc0a-194f5c35dee6"
      },
      "execution_count": 15,
      "outputs": [
        {
          "output_type": "stream",
          "name": "stderr",
          "text": [
            "WARNING:tensorflow:Layer lstm_2 will not use cuDNN kernels since it doesn't meet the criteria. It will use a generic GPU kernel as fallback when running on GPU.\n",
            "WARNING:tensorflow:Layer lstm_2 will not use cuDNN kernels since it doesn't meet the criteria. It will use a generic GPU kernel as fallback when running on GPU.\n",
            "WARNING:tensorflow:Layer lstm_2 will not use cuDNN kernels since it doesn't meet the criteria. It will use a generic GPU kernel as fallback when running on GPU.\n"
          ]
        },
        {
          "output_type": "stream",
          "name": "stdout",
          "text": [
            "Model: \"model_1\"\n",
            "_________________________________________________________________\n",
            " Layer (type)                Output Shape              Param #   \n",
            "=================================================================\n",
            " input_2 (InputLayer)        [(None, 20)]              0         \n",
            "                                                                 \n",
            " embedding_1 (Embedding)     (None, 20, 64)            640000    \n",
            "                                                                 \n",
            " bidirectional (Bidirectiona  (None, 20, 256)          197632    \n",
            " l)                                                              \n",
            "                                                                 \n",
            " bidirectional_1 (Bidirectio  (None, 128)              164352    \n",
            " nal)                                                            \n",
            "                                                                 \n",
            " dense_1 (Dense)             (None, 2)                 258       \n",
            "                                                                 \n",
            "=================================================================\n",
            "Total params: 1,002,242\n",
            "Trainable params: 1,002,242\n",
            "Non-trainable params: 0\n",
            "_________________________________________________________________\n"
          ]
        }
      ]
    },
    {
      "cell_type": "markdown",
      "source": [
        "As we can see, the output of the bidirectional layer has doubled the output of the lstm layer seen before. (left to right and right to left)."
      ],
      "metadata": {
        "id": "cAnCPR40g_9H"
      }
    },
    {
      "cell_type": "code",
      "source": [
        "history = model_bd.fit(x_train, y_train, epochs=10, validation_data = (x_val, y_val), callbacks = [callback])"
      ],
      "metadata": {
        "colab": {
          "base_uri": "https://localhost:8080/"
        },
        "id": "75y3jDkdiJdk",
        "outputId": "87283d7e-ca61-421d-ff73-e87d80d0b132"
      },
      "execution_count": 16,
      "outputs": [
        {
          "output_type": "stream",
          "name": "stdout",
          "text": [
            "Epoch 1/10\n",
            "44/44 [==============================] - 23s 325ms/step - loss: 0.6139 - accuracy: 0.7098 - val_loss: 0.6990 - val_accuracy: 0.6233\n",
            "Epoch 2/10\n",
            "44/44 [==============================] - 12s 280ms/step - loss: 0.3966 - accuracy: 0.8127 - val_loss: 0.7842 - val_accuracy: 0.7209\n",
            "Epoch 3/10\n",
            "44/44 [==============================] - 9s 217ms/step - loss: 0.0959 - accuracy: 0.9628 - val_loss: 0.9848 - val_accuracy: 0.6744\n",
            "Epoch 4/10\n",
            "44/44 [==============================] - 9s 213ms/step - loss: 0.0341 - accuracy: 0.9921 - val_loss: 1.3633 - val_accuracy: 0.6605\n",
            "Epoch 5/10\n",
            "44/44 [==============================] - 8s 171ms/step - loss: 0.0176 - accuracy: 0.9929 - val_loss: 1.3652 - val_accuracy: 0.6558\n",
            "Epoch 6/10\n",
            "44/44 [==============================] - 9s 198ms/step - loss: 0.0073 - accuracy: 0.9971 - val_loss: 1.8712 - val_accuracy: 0.6419\n",
            "Epoch 7/10\n",
            "44/44 [==============================] - 9s 209ms/step - loss: 6.5562e-04 - accuracy: 1.0000 - val_loss: 1.7077 - val_accuracy: 0.6698\n"
          ]
        }
      ]
    },
    {
      "cell_type": "code",
      "source": [
        "evaluate_model(model_bd, x_test, y_test)"
      ],
      "metadata": {
        "colab": {
          "base_uri": "https://localhost:8080/"
        },
        "id": "iP9RkND9iSDe",
        "outputId": "fd8983b2-a795-4812-b59f-0f370b1d0052"
      },
      "execution_count": 17,
      "outputs": [
        {
          "output_type": "stream",
          "name": "stdout",
          "text": [
            "8/8 [==============================] - 1s 17ms/step\n",
            "              precision    recall  f1-score   support\n",
            "\n",
            "         OGG       0.81      0.72      0.76       152\n",
            "        SOGG       0.54      0.65      0.59        75\n",
            "\n",
            "    accuracy                           0.70       227\n",
            "   macro avg       0.67      0.69      0.68       227\n",
            "weighted avg       0.72      0.70      0.71       227\n",
            "\n"
          ]
        }
      ]
    },
    {
      "cell_type": "markdown",
      "source": [
        "## Transformers"
      ],
      "metadata": {
        "id": "xy3s5pxyivfx"
      }
    },
    {
      "cell_type": "markdown",
      "source": [
        "Transformers are deep neural networks that over the last years achieved state of the art performances in several tasks.\n",
        "\n",
        "Transformers replaces CNNs and RNNs with [self-attention](https://developers.google.com/machine-learning/glossary#self-attention). Self attention allows Transformers to easily transmit information across the input sequences.\n",
        "\n",
        "For the transformer model implementation we will rely on a Python library called `transformers`, which provides an API inteface to several pre-trained models for fine-tuning or transfer-learning purposes."
      ],
      "metadata": {
        "id": "AIXT9SQvixGE"
      }
    },
    {
      "cell_type": "code",
      "source": [
        "!pip3 install transformers \n",
        "from transformers import AutoTokenizer, TFBertModel"
      ],
      "metadata": {
        "colab": {
          "base_uri": "https://localhost:8080/"
        },
        "id": "fDswaBvBpB2X",
        "outputId": "6ef43664-b16b-4aa1-e1fe-4aa97c621018"
      },
      "execution_count": 18,
      "outputs": [
        {
          "output_type": "stream",
          "name": "stdout",
          "text": [
            "Looking in indexes: https://pypi.org/simple, https://us-python.pkg.dev/colab-wheels/public/simple/\n",
            "Collecting transformers\n",
            "  Downloading transformers-4.29.1-py3-none-any.whl (7.1 MB)\n",
            "\u001b[2K     \u001b[90m━━━━━━━━━━━━━━━━━━━━━━━━━━━━━━━━━━━━━━━━\u001b[0m \u001b[32m7.1/7.1 MB\u001b[0m \u001b[31m92.7 MB/s\u001b[0m eta \u001b[36m0:00:00\u001b[0m\n",
            "\u001b[?25hRequirement already satisfied: filelock in /usr/local/lib/python3.10/dist-packages (from transformers) (3.12.0)\n",
            "Collecting huggingface-hub<1.0,>=0.14.1 (from transformers)\n",
            "  Downloading huggingface_hub-0.14.1-py3-none-any.whl (224 kB)\n",
            "\u001b[2K     \u001b[90m━━━━━━━━━━━━━━━━━━━━━━━━━━━━━━━━━━━━━━\u001b[0m \u001b[32m224.5/224.5 kB\u001b[0m \u001b[31m29.7 MB/s\u001b[0m eta \u001b[36m0:00:00\u001b[0m\n",
            "\u001b[?25hRequirement already satisfied: numpy>=1.17 in /usr/local/lib/python3.10/dist-packages (from transformers) (1.22.4)\n",
            "Requirement already satisfied: packaging>=20.0 in /usr/local/lib/python3.10/dist-packages (from transformers) (23.1)\n",
            "Requirement already satisfied: pyyaml>=5.1 in /usr/local/lib/python3.10/dist-packages (from transformers) (6.0)\n",
            "Requirement already satisfied: regex!=2019.12.17 in /usr/local/lib/python3.10/dist-packages (from transformers) (2022.10.31)\n",
            "Requirement already satisfied: requests in /usr/local/lib/python3.10/dist-packages (from transformers) (2.27.1)\n",
            "Collecting tokenizers!=0.11.3,<0.14,>=0.11.1 (from transformers)\n",
            "  Downloading tokenizers-0.13.3-cp310-cp310-manylinux_2_17_x86_64.manylinux2014_x86_64.whl (7.8 MB)\n",
            "\u001b[2K     \u001b[90m━━━━━━━━━━━━━━━━━━━━━━━━━━━━━━━━━━━━━━━━\u001b[0m \u001b[32m7.8/7.8 MB\u001b[0m \u001b[31m95.8 MB/s\u001b[0m eta \u001b[36m0:00:00\u001b[0m\n",
            "\u001b[?25hRequirement already satisfied: tqdm>=4.27 in /usr/local/lib/python3.10/dist-packages (from transformers) (4.65.0)\n",
            "Requirement already satisfied: fsspec in /usr/local/lib/python3.10/dist-packages (from huggingface-hub<1.0,>=0.14.1->transformers) (2023.4.0)\n",
            "Requirement already satisfied: typing-extensions>=3.7.4.3 in /usr/local/lib/python3.10/dist-packages (from huggingface-hub<1.0,>=0.14.1->transformers) (4.5.0)\n",
            "Requirement already satisfied: urllib3<1.27,>=1.21.1 in /usr/local/lib/python3.10/dist-packages (from requests->transformers) (1.26.15)\n",
            "Requirement already satisfied: certifi>=2017.4.17 in /usr/local/lib/python3.10/dist-packages (from requests->transformers) (2022.12.7)\n",
            "Requirement already satisfied: charset-normalizer~=2.0.0 in /usr/local/lib/python3.10/dist-packages (from requests->transformers) (2.0.12)\n",
            "Requirement already satisfied: idna<4,>=2.5 in /usr/local/lib/python3.10/dist-packages (from requests->transformers) (3.4)\n",
            "Installing collected packages: tokenizers, huggingface-hub, transformers\n",
            "Successfully installed huggingface-hub-0.14.1 tokenizers-0.13.3 transformers-4.29.1\n"
          ]
        }
      ]
    },
    {
      "cell_type": "markdown",
      "source": [
        "### Pre-trained model\n",
        "\n",
        "For this task we will use a pre-trained language model called [AlBERTo](github.com/marcopoli/AlBERTo-it). AlBERTo is a BERT model trained for the Italian language. In particular, AlBERTo is focused on the language used in social networks, specifically on Twitter. Due to the language and the type of data present in the dataset AlBERTo is the best fit for this kind of task.\n",
        "\n",
        "You can find the pre-trained model in [huggingface](https://huggingface.co/bert-base-multilingual-cased?text=mi+piace+il+%5BMASK%5D), which is an open repository for pre-trained architectures, available in both pytorch and tensorflow (depending on the developers)."
      ],
      "metadata": {
        "id": "K9HOxoGWqJ9C"
      }
    },
    {
      "cell_type": "markdown",
      "source": [
        "### Data pre-processing\n",
        "\n",
        "Transoformers must recieve input in a standard format, namely divided in `input_ids`, `token_type_ids`, `attention_mask`."
      ],
      "metadata": {
        "id": "i0U8j4pbqLmT"
      }
    },
    {
      "cell_type": "code",
      "source": [
        "def prepare_data_bert(x, y, maxSentenceLen = maxSentenceLen):\n",
        "  \"\"\"\n",
        "  Args:\n",
        "    - x: the sentences to label.\n",
        "    - y: the actual labels.\n",
        "    - maxSentenceLen: The maximum length of the sentences, it is used as a truncation length\n",
        "  Returns:\n",
        "    - A tuple with the input to feed into a transformers model, namely ((input_ids, attention_mask, token_type_ids), categorical_labels).\n",
        "\n",
        "  \"\"\"\n",
        "  pad = tf.keras.preprocessing.sequence.pad_sequences\n",
        "  tokenizer = AutoTokenizer.from_pretrained(\"m-polignano-uniba/bert_uncased_L-12_H-768_A-12_italian_alb3rt0\")\n",
        "  dataFields = {\n",
        "          \"input_ids\": [],\n",
        "          \"token_type_ids\": [],\n",
        "          \"attention_mask\": [],\n",
        "          \"subjectivity\": []\n",
        "      }\n",
        "  lbls = {\n",
        "      'SOG' : 1.0,\n",
        "      'OGG' : 0.0\n",
        "  }\n",
        "  for i in range(len(x)):\n",
        "      data = tokenizer(x[i])\n",
        "      padded = pad([data['input_ids'], data['attention_mask'], data['token_type_ids']], padding = 'post', maxlen = maxSentenceLen)\n",
        "      dataFields['input_ids'].append(padded[0])\n",
        "      dataFields['attention_mask'].append(padded[1])\n",
        "      dataFields['token_type_ids'].append(padded[-1])\n",
        "      dataFields['subjectivity'].append(lbls[y[i]])\n",
        "  \n",
        "  for key in dataFields:\n",
        "      dataFields[key] = np.array(dataFields[key])\n",
        "  \n",
        "  return [dataFields[\"input_ids\"], dataFields[\"token_type_ids\"], dataFields[\"attention_mask\"]], dataFields[\"subjectivity\"]"
      ],
      "metadata": {
        "id": "TNk3vkaNqDpT"
      },
      "execution_count": 19,
      "outputs": []
    },
    {
      "cell_type": "code",
      "source": [
        "x_train_bert, y_train_bert = prepare_data_bert(sentences_train, labels_train)\n",
        "x_val_bert, y_val_bert = prepare_data_bert(sentences_val, labels_val)\n",
        "x_test_bert, y_test_bert = prepare_data_bert(sentences_test, labels_test)"
      ],
      "metadata": {
        "colab": {
          "base_uri": "https://localhost:8080/",
          "height": 81,
          "referenced_widgets": [
            "456f2dfc2c2449ed95d9b4b87752005e",
            "34e708b503654a57a0dfdafa6f0a2a03",
            "9e39d89dd2f4427180db4bd06eebc70f",
            "d8fe449b1c89482aac4708b3d1874b17",
            "deb813555efe414fb1a53e9325fd4953",
            "2ae51f54d4dc458e977390d93d9afde8",
            "f95601a270d04b13b6f69f2abdd33b87",
            "db1866eacbce492581a5596f412f833d",
            "f9a1b1f6cb964ac08b7a89da54dca50e",
            "34850a42aeb44fca84123b70e8347468",
            "df1a6299cf924bb5ba7e7d41a41cd5e0",
            "0d64aa424e1647c4b42f956fc7faf091",
            "15d8612b42dd4e7b9b32336bd3850ba8",
            "bbc455a2fe494586be214b8f26b11cb1",
            "b7783a17754e4deb9d9c79926b118f53",
            "be9e48acbce74f3faa9bb6a10397bdb3",
            "db184ba4e3344b0582131421f6c2e6e5",
            "0a62e14aa3404b30b5e3805f519ac9c5",
            "90524061ea9d4ff4815684c1d234f379",
            "bf19ef5624a94f21a5600f5ff7cb54bd",
            "23b3852ef9a74adba8683df09484915f",
            "e2353efe26a941a4840eea4be2b7463f"
          ]
        },
        "id": "9DV5_De6tto_",
        "outputId": "962b108f-16b0-4656-a9e3-8e611141c962"
      },
      "execution_count": 20,
      "outputs": [
        {
          "output_type": "display_data",
          "data": {
            "text/plain": [
              "Downloading (…)lve/main/config.json:   0%|          | 0.00/625 [00:00<?, ?B/s]"
            ],
            "application/vnd.jupyter.widget-view+json": {
              "version_major": 2,
              "version_minor": 0,
              "model_id": "456f2dfc2c2449ed95d9b4b87752005e"
            }
          },
          "metadata": {}
        },
        {
          "output_type": "display_data",
          "data": {
            "text/plain": [
              "Downloading (…)solve/main/vocab.txt:   0%|          | 0.00/1.11M [00:00<?, ?B/s]"
            ],
            "application/vnd.jupyter.widget-view+json": {
              "version_major": 2,
              "version_minor": 0,
              "model_id": "0d64aa424e1647c4b42f956fc7faf091"
            }
          },
          "metadata": {}
        }
      ]
    },
    {
      "cell_type": "markdown",
      "source": [
        "### Model"
      ],
      "metadata": {
        "id": "r7EoL4raqxeU"
      }
    },
    {
      "cell_type": "code",
      "source": [
        "def create_transformers_model(input_shape, out_dim):\n",
        "  input_ids = Input(shape = input_shape, dtype = tf.int32)\n",
        "  token_type_ids = Input(shape = input_shape, dtype = tf.int32)\n",
        "  attention_mask = Input(shape = input_shape, dtype = tf.int32)\n",
        "\n",
        "  bertModel = TFBertModel.from_pretrained(\"m-polignano-uniba/bert_uncased_L-12_H-768_A-12_italian_alb3rt0\")(input_ids, token_type_ids=token_type_ids, attention_mask=attention_mask)[-1]\n",
        "\n",
        "  output = Dense(out_dim, activation=tf.nn.sigmoid)(tf.keras.layers.Dropout(0.1)(bertModel))\n",
        "\n",
        "  model = Model(inputs = [input_ids, token_type_ids, attention_mask], outputs = output)\n",
        "  model.compile(optimizer = Adam(1e-5), loss=SparseCategoricalCrossentropy(from_logits=True), metrics = ['accuracy'])\n",
        "  \n",
        "  return model"
      ],
      "metadata": {
        "id": "vsqyzGmRq0pX"
      },
      "execution_count": 21,
      "outputs": []
    },
    {
      "cell_type": "code",
      "source": [
        "bert_model = create_transformers_model((20,), 2)"
      ],
      "metadata": {
        "colab": {
          "base_uri": "https://localhost:8080/",
          "height": 118,
          "referenced_widgets": [
            "1df13dbfbc1c4774b8c74028d2fbdea4",
            "d8f805d20bdf4845a81c2f6ae0f8efce",
            "bd2901bcb3b54d56a7d126ba1c78625c",
            "12a2450db49a435a94c6f50f3666c6b3",
            "d873ec18f6774e7c832c3f14fa4b0982",
            "5f9a3918f0634a7eb4d93f10e6b01f67",
            "e3b28c40f2004872b737f390e10d88d4",
            "01596dd76ef24932afb2718d291d5200",
            "96cd65b2dfc5495584dea703b9261764",
            "fabbd75da44844db9999ad3b0317adba",
            "1c98c268434f477abaf87bce039f4a45"
          ]
        },
        "id": "q-VTprm8uiTF",
        "outputId": "c2b35e58-9b48-461c-c13b-71ea5e9d38df"
      },
      "execution_count": 23,
      "outputs": [
        {
          "output_type": "display_data",
          "data": {
            "text/plain": [
              "Downloading tf_model.h5:   0%|          | 0.00/738M [00:00<?, ?B/s]"
            ],
            "application/vnd.jupyter.widget-view+json": {
              "version_major": 2,
              "version_minor": 0,
              "model_id": "1df13dbfbc1c4774b8c74028d2fbdea4"
            }
          },
          "metadata": {}
        },
        {
          "output_type": "stream",
          "name": "stderr",
          "text": [
            "All model checkpoint layers were used when initializing TFBertModel.\n",
            "\n",
            "All the layers of TFBertModel were initialized from the model checkpoint at m-polignano-uniba/bert_uncased_L-12_H-768_A-12_italian_alb3rt0.\n",
            "If your task is similar to the task the model of the checkpoint was trained on, you can already use TFBertModel for predictions without further training.\n"
          ]
        }
      ]
    },
    {
      "cell_type": "code",
      "source": [
        "bert_model.summary()"
      ],
      "metadata": {
        "colab": {
          "base_uri": "https://localhost:8080/"
        },
        "id": "Gv1o2x6auqFj",
        "outputId": "c3d0237e-47b4-431c-d1e7-553dcddc90a2"
      },
      "execution_count": 24,
      "outputs": [
        {
          "output_type": "stream",
          "name": "stdout",
          "text": [
            "Model: \"model_2\"\n",
            "__________________________________________________________________________________________________\n",
            " Layer (type)                   Output Shape         Param #     Connected to                     \n",
            "==================================================================================================\n",
            " input_3 (InputLayer)           [(None, 20)]         0           []                               \n",
            "                                                                                                  \n",
            " input_5 (InputLayer)           [(None, 20)]         0           []                               \n",
            "                                                                                                  \n",
            " input_4 (InputLayer)           [(None, 20)]         0           []                               \n",
            "                                                                                                  \n",
            " tf_bert_model (TFBertModel)    TFBaseModelOutputWi  184345344   ['input_3[0][0]',                \n",
            "                                thPoolingAndCrossAt               'input_5[0][0]',                \n",
            "                                tentions(last_hidde               'input_4[0][0]']                \n",
            "                                n_state=(None, 20,                                                \n",
            "                                768),                                                             \n",
            "                                 pooler_output=(Non                                               \n",
            "                                e, 768),                                                          \n",
            "                                 past_key_values=No                                               \n",
            "                                ne, hidden_states=N                                               \n",
            "                                one, attentions=Non                                               \n",
            "                                e, cross_attentions                                               \n",
            "                                =None)                                                            \n",
            "                                                                                                  \n",
            " dropout_37 (Dropout)           (None, 768)          0           ['tf_bert_model[0][1]']          \n",
            "                                                                                                  \n",
            " dense_2 (Dense)                (None, 2)            1538        ['dropout_37[0][0]']             \n",
            "                                                                                                  \n",
            "==================================================================================================\n",
            "Total params: 184,346,882\n",
            "Trainable params: 184,346,882\n",
            "Non-trainable params: 0\n",
            "__________________________________________________________________________________________________\n"
          ]
        }
      ]
    },
    {
      "cell_type": "code",
      "source": [
        "history = bert_model.fit(x_train_bert, \n",
        "                         y_train_bert, \n",
        "                         epochs=4, \n",
        "                         validation_data = (x_val_bert, y_val_bert), \n",
        "                         batch_size = 16, \n",
        "                         callbacks = [callback]\n",
        "                         )"
      ],
      "metadata": {
        "colab": {
          "base_uri": "https://localhost:8080/"
        },
        "id": "aGm17gdQvAYf",
        "outputId": "26579a53-e648-4d35-e740-ea976bed51e2"
      },
      "execution_count": 25,
      "outputs": [
        {
          "output_type": "stream",
          "name": "stdout",
          "text": [
            "Epoch 1/4\n",
            "88/88 [==============================] - 82s 281ms/step - loss: 0.5839 - accuracy: 0.7084 - val_loss: 0.5753 - val_accuracy: 0.7442\n",
            "Epoch 2/4\n",
            "88/88 [==============================] - 15s 175ms/step - loss: 0.5007 - accuracy: 0.8163 - val_loss: 0.5624 - val_accuracy: 0.7302\n",
            "Epoch 3/4\n",
            "88/88 [==============================] - 13s 143ms/step - loss: 0.4378 - accuracy: 0.8735 - val_loss: 0.5508 - val_accuracy: 0.7581\n",
            "Epoch 4/4\n",
            "88/88 [==============================] - 11s 123ms/step - loss: 0.4055 - accuracy: 0.9099 - val_loss: 0.5517 - val_accuracy: 0.7535\n"
          ]
        }
      ]
    },
    {
      "cell_type": "code",
      "source": [
        "evaluate_model(bert_model, x_test_bert, y_test_bert)"
      ],
      "metadata": {
        "colab": {
          "base_uri": "https://localhost:8080/"
        },
        "id": "YvFHxPwTvEyN",
        "outputId": "4412ad8d-ce67-4451-c9f6-ae01dc990a8b"
      },
      "execution_count": 26,
      "outputs": [
        {
          "output_type": "stream",
          "name": "stdout",
          "text": [
            "8/8 [==============================] - 3s 60ms/step\n",
            "              precision    recall  f1-score   support\n",
            "\n",
            "         OGG       0.77      0.84      0.80       152\n",
            "        SOGG       0.60      0.51      0.55        75\n",
            "\n",
            "    accuracy                           0.73       227\n",
            "   macro avg       0.69      0.67      0.68       227\n",
            "weighted avg       0.72      0.73      0.72       227\n",
            "\n"
          ]
        }
      ]
    }
  ]
}